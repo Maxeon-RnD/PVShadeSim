{
 "cells": [
  {
   "cell_type": "markdown",
   "id": "f633c1d1",
   "metadata": {},
   "source": [
    "# Run a simulation using user created databases and sim config file"
   ]
  },
  {
   "cell_type": "code",
   "execution_count": 1,
   "id": "a4e9acda",
   "metadata": {},
   "outputs": [],
   "source": [
    "import pandas as pd\n",
    "import os"
   ]
  },
  {
   "cell_type": "markdown",
   "id": "8856583a",
   "metadata": {},
   "source": [
    "## Import PVShadeSim\n",
    "\n",
    "To run a simulation import the **pvsim** method from PVShadeSim."
   ]
  },
  {
   "cell_type": "code",
   "execution_count": 2,
   "id": "532d6739",
   "metadata": {},
   "outputs": [],
   "source": [
    "from PVShadeSim import pvsim, utils"
   ]
  },
  {
   "cell_type": "markdown",
   "id": "04aea38f",
   "metadata": {},
   "source": [
    "**pvsim** includes a **run** command to run the entire simulation. It automatically loads the in-built cell, module, and shade databases, along with a sample simulation configuration file.\n",
    "\n",
    "The command outputs a pandas dataframe that contains a summary of the results. Additionally, other files are created in the current working directory.\n",
    "\n",
    "For this example, we will specify the file paths for the databases and simulation configuration file. The user cell index and cell position files are defaults and will not be used in the simulation. The files are stored in the current working directory for simplicity, but can be stored somewhere else too. "
   ]
  },
  {
   "cell_type": "markdown",
   "id": "cc387bdd",
   "metadata": {},
   "source": [
    "## DB and Sim Config file path"
   ]
  },
  {
   "cell_type": "code",
   "execution_count": 3,
   "id": "ebea6791",
   "metadata": {},
   "outputs": [],
   "source": [
    "cell_prm_csv = 'PVMM_cell_params_DB.csv'\n",
    "mod_prm_csv = 'PVMM_mod_params_DB.csv'\n",
    "shade_prm_csv = 'PVMM_shade_params_DB.csv'\n",
    "\n",
    "sim_config_csv = 'Sim_Config.csv'"
   ]
  },
  {
   "cell_type": "code",
   "execution_count": 4,
   "id": "93aa522e",
   "metadata": {},
   "outputs": [
    {
     "name": "stdout",
     "output_type": "stream",
     "text": [
      "Time elapsed to generate Module Models: 0.5308513641357422 s\n",
      "Time elapsed to generate Shade Scenarios: 10.664185762405396 s\n",
      "Time elapsed to run default_half_TB: 58.55073952674866 s\n",
      "Time elapsed: 60.79342532157898 s\n"
     ]
    }
   ],
   "source": [
    "dfCases = pvsim.run(cell_prm_csv=cell_prm_csv, mod_prm_csv=mod_prm_csv, shade_prm_csv=shade_prm_csv,\n",
    "                    sim_config_csv=sim_config_csv\n",
    "                   )"
   ]
  }
 ],
 "metadata": {
  "kernelspec": {
   "display_name": "Python 3 (ipykernel)",
   "language": "python",
   "name": "python3"
  },
  "language_info": {
   "codemirror_mode": {
    "name": "ipython",
    "version": 3
   },
   "file_extension": ".py",
   "mimetype": "text/x-python",
   "name": "python",
   "nbconvert_exporter": "python",
   "pygments_lexer": "ipython3",
   "version": "3.10.12"
  }
 },
 "nbformat": 4,
 "nbformat_minor": 5
}
